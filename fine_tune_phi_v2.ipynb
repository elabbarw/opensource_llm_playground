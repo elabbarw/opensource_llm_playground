{
 "cells": [
  {
   "cell_type": "code",
   "execution_count": null,
   "id": "1addbf2e-322d-42de-9236-0cd4a4ef008d",
   "metadata": {},
   "outputs": [],
   "source": [
    "%pip install datasets\n",
    "%pip install huggingface\n",
    "%pip install peft\n",
    "%pip install transformers\n",
    "%pip install trl\n",
    "%pip install bitsandbytes\n",
    "%pip install einops\n",
    "%pip install scipy"
   ]
  },
  {
   "cell_type": "code",
   "execution_count": null,
   "id": "d7664c66-50a4-422f-8f17-573274a477f5",
   "metadata": {},
   "outputs": [],
   "source": [
    "import os\n",
    "from dataclasses import dataclass, field\n",
    "from typing import Optional\n",
    "\n",
    "import torch\n",
    "from datasets import load_dataset\n",
    "from datasets import load_from_disk\n",
    "from peft import LoraConfig\n",
    "from transformers import (\n",
    "    AutoModelForCausalLM,\n",
    "    AutoTokenizer,\n",
    "    BitsAndBytesConfig,\n",
    "    HfArgumentParser,\n",
    "    AutoTokenizer,\n",
    "    TrainingArguments,\n",
    ")\n",
    "from tqdm.notebook import tqdm\n",
    "\n",
    "from trl import SFTTrainer\n",
    "from huggingface_hub import interpreter_login\n",
    "\n",
    "interpreter_login()\n",
    "\n"
   ]
  },
  {
   "cell_type": "code",
   "execution_count": null,
   "id": "1a7affea-8a27-43df-b453-4c7a261acfcc",
   "metadata": {},
   "outputs": [],
   "source": [
    "compute_dtype = getattr(torch, \"float16\")\n",
    "bnb_config = BitsAndBytesConfig(\n",
    "    load_in_4bit=True,\n",
    "    bnb_4bit_quant_type='nf4',\n",
    "    bnb_4bit_compute_dtype='float16',\n",
    "    bnb_4bit_use_double_quant=False,\n",
    ")\n",
    "device_map = {\"\": 0}"
   ]
  },
  {
   "cell_type": "code",
   "execution_count": null,
   "id": "b050c09c-995b-4d4c-bb3e-54d744966cb7",
   "metadata": {},
   "outputs": [],
   "source": [
    "\n",
    "#Download model\n",
    "model = AutoModelForCausalLM.from_pretrained(\n",
    "        \"microsoft/phi-2\", \n",
    "        quantization_config=bnb_config, \n",
    "        device_map=device_map,\n",
    "        trust_remote_code=True,\n",
    "        use_auth_token=True\n",
    "    )\n",
    "\n",
    "# Disable gradient checkpointing\n",
    "model.config.gradient_checkpointing = False\n",
    "\n",
    "\n",
    "peft_config = LoraConfig(\n",
    "    lora_alpha=16,\n",
    "    lora_dropout=0.1,\n",
    "    r=32,\n",
    "    target_modules=['lm_head.linear', 'transformer.embd.wte'],\n",
    "    bias=\"none\",\n",
    "    task_type=\"CAUSAL_LM\", \n",
    ")\n"
   ]
  },
  {
   "cell_type": "code",
   "execution_count": null,
   "id": "52c04a64-33fe-4192-9934-96e680f91a31",
   "metadata": {},
   "outputs": [],
   "source": [
    "def format_conversations(example):\n",
    "    formatted_text = \"\"\n",
    "    for conversation in example['conversations']:\n",
    "        if conversation['from'] == 'human':\n",
    "            formatted_text += \"Instruct: \" + conversation['value'] + \"\\\\n\"\n",
    "        elif conversation['from'] == 'gpt':\n",
    "            formatted_text += \"Output: \" + conversation['value'] + \"\\\\n\"\n",
    "    return {'text': formatted_text.replace('\\n','\\\\n')}\n",
    "\n"
   ]
  },
  {
   "cell_type": "code",
   "execution_count": null,
   "id": "a7aaa8ae-32d1-445f-b5f5-93bc14f79050",
   "metadata": {},
   "outputs": [],
   "source": [
    "\n",
    "tokenizer = AutoTokenizer.from_pretrained(\"microsoft/phi-2\", trust_remote_code=True)\n",
    "tokenizer.pad_token = tokenizer.eos_token\n",
    "\n",
    "training_arguments = TrainingArguments(\n",
    "    output_dir=\"./results\",\n",
    "    per_device_train_batch_size=1,\n",
    "    gradient_accumulation_steps=4,\n",
    "    optim=\"paged_adamw_32bit\",\n",
    "    save_steps=500, \n",
    "    logging_steps=10,\n",
    "    learning_rate=2e-4,\n",
    "    fp16=False,\n",
    "    bf16=True,\n",
    "    max_grad_norm=.3,\n",
    "    max_steps=10000,\n",
    "    warmup_ratio=.03,\n",
    "    group_by_length=True,\n",
    "    lr_scheduler_type=\"constant\",\n",
    ")\n",
    "\n",
    "model.config.use_cache = False\n",
    "\n",
    "dataset = load_dataset(\"json\", data_files=\"instruct.json\", split=\"train\")\n",
    "dataset = dataset.map(format_conversations)\n"
   ]
  },
  {
   "cell_type": "code",
   "execution_count": null,
   "id": "cc29326b-a233-4ca9-ae0f-5a77490b91db",
   "metadata": {},
   "outputs": [],
   "source": [
    "\n",
    "trainer = SFTTrainer(\n",
    "    model=model,\n",
    "    train_dataset=dataset,\n",
    "    peft_config=peft_config,\n",
    "    dataset_text_field=\"text\",\n",
    "    max_seq_length=2048,\n",
    "    tokenizer=tokenizer,\n",
    "    args=training_arguments,\n",
    "    packing=False,\n",
    ")\n",
    "\n",
    "trainer.train()"
   ]
  },
  {
   "cell_type": "code",
   "execution_count": null,
   "id": "ca43a6fc-7106-4415-bc06-e2733a423f28",
   "metadata": {},
   "outputs": [],
   "source": [
    "model.save_pretrained('./ftphi2')\n",
    "tokenizer.save_pretrained('./ftphi2')\n"
   ]
  },
  {
   "cell_type": "code",
   "execution_count": null,
   "id": "0fd91b9f-7680-40b8-a872-16c67660965d",
   "metadata": {},
   "outputs": [],
   "source": [
    "from huggingface_hub import Repository\n",
    "\n",
    "repo = Repository(local_dir='./ftphi2', clone_from='******')\n",
    "repo.git_add('*')\n",
    "repo.git_commit('Add model')\n",
    "repo.git_push()\n"
   ]
  }
 ],
 "metadata": {
  "kernelspec": {
   "display_name": "Python 3 (ipykernel)",
   "language": "python",
   "name": "python3"
  },
  "language_info": {
   "codemirror_mode": {
    "name": "ipython",
    "version": 3
   },
   "file_extension": ".py",
   "mimetype": "text/x-python",
   "name": "python",
   "nbconvert_exporter": "python",
   "pygments_lexer": "ipython3",
   "version": "3.10.12"
  }
 },
 "nbformat": 4,
 "nbformat_minor": 5
}
