{
 "cells": [
  {
   "cell_type": "code",
   "execution_count": null,
   "metadata": {},
   "outputs": [],
   "source": [
    "%pip install torch\n",
    "%pip install transformers\n",
    "%pip install einops"
   ]
  },
  {
   "cell_type": "code",
   "execution_count": null,
   "metadata": {},
   "outputs": [],
   "source": [
    "import torch\n",
    "from transformers import AutoModelForCausalLM, AutoTokenizer\n",
    "\n",
    "device = \"cuda\" if torch.cuda.is_available() else \"cpu\"\n",
    "\n",
    "sysprompt = \"The assistant gives helpful, detailed, and polite answers to the user's questions.\\n\"\n",
    "\n",
    "model = AutoModelForCausalLM.from_pretrained(\"teknium/Puffin-Phi-v2\", trust_remote_code=True, torch_dtype=torch.bfloat16).to(device)\n",
    "tokenizer = AutoTokenizer.from_pretrained(\"teknium/Puffin-Phi-v2\", trust_remote_code=True, torch_dtype=torch.bfloat16)\n",
    "\n",
    "input_text = f\"{sysprompt}Write an essay discussing the historical, cultural, and environmental significance of the Alps, focusing on their role in shaping the development of Europe and the world.\\n\"\n",
    "input_ids = tokenizer.encode(input_text, return_tensors=\"pt\").to(device)\n",
    "\n",
    "outputs = model.generate(input_ids, max_length=128, do_sample=True, temperature=0.2, top_p=0.9, use_cache=True, repetition_penalty=1.2, eos_token_id=tokenizer.eos_token_id)\n",
    "text = tokenizer.decode(outputs[0], skip_special_tokens=True)\n",
    "print(text)"
   ]
  }
 ],
 "metadata": {
  "language_info": {
   "name": "python"
  }
 },
 "nbformat": 4,
 "nbformat_minor": 2
}
